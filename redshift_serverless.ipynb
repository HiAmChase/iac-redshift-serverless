{
 "cells": [
  {
   "cell_type": "markdown",
   "id": "aecba6af-15d8-4d5c-a3a3-6b43b27d6d18",
   "metadata": {},
   "source": [
    "### Create workgroup for Redshift Serverless"
   ]
  },
  {
   "cell_type": "markdown",
   "id": "7a5f6783-e4c2-4057-a605-cdf9af1206fe",
   "metadata": {},
   "source": [
    "#### Set up dependencies"
   ]
  },
  {
   "cell_type": "code",
   "execution_count": null,
   "id": "e0571b61-78cd-4fef-87fd-7ea95c496e37",
   "metadata": {},
   "outputs": [],
   "source": [
    "import boto3\n",
    "import configparser\n",
    "import json\n",
    "\n",
    "from botocore.exceptions import ClientError"
   ]
  },
  {
   "cell_type": "code",
   "execution_count": null,
   "id": "5fb390c8-1628-4c6a-903b-c77814c6a907",
   "metadata": {},
   "outputs": [],
   "source": [
    "aws_config = configparser.ConfigParser()\n",
    "aws_config.read_file(open(\"access_key.config\"))\n",
    "\n",
    "AWS_ACCESS_KEY = aws_config.get(\"AWS\", \"KEY\")\n",
    "AWS_SECRET_ACCESS_KEY = aws_config.get(\"AWS\", \"SECRET\")\n",
    "REGION_NAME = \"ap-northeast-1\""
   ]
  },
  {
   "cell_type": "code",
   "execution_count": null,
   "id": "0f16f123-3b54-44d8-af6a-2e231e9f7cf3",
   "metadata": {},
   "outputs": [],
   "source": [
    "warehouse_config = configparser.ConfigParser()\n",
    "warehouse_config.read_file(open(\"warehouse.config\"))\n",
    "\n",
    "SECURITY_GROUP_NAME = warehouse_config.get(\"security-group\", \"SECURITY_GROUP_NAME\")\n",
    "SECURITY_GROUP_DESCRIPTION = warehouse_config.get(\"security-group\", \"SECURITY_GROUP_DESCRIPTION\")\n",
    "\n",
    "ROLE_NAME = warehouse_config.get(\"role\", \"ROLE_NAME\")\n",
    "\n",
    "WAREHOUSE_NAMESPACE = warehouse_config.get(\"warehouse\", \"WAREHOUSE_NAMESPACE\")\n",
    "WAREHOUSE_USERNAME= warehouse_config.get(\"warehouse\", \"WAREHOUSE_USERNAME\")\n",
    "WAREHOUSE_DB = warehouse_config.get(\"warehouse\", \"WAREHOUSE_DB\")\n",
    "WAREHOUSE_PASSWORD = warehouse_config.get(\"warehouse\", \"WAREHOUSE_PASSWORD\")\n",
    "WAREHOUSE_PORT = warehouse_config.get(\"warehouse\", \"WAREHOUSE_PORT\")\n",
    "WAREHOUSE_WORKGROUP = warehouse_config.get(\"warehouse\", \"WAREHOUSE_WORKGROUP\")\n",
    "WAREHOUSE_BASE_CAPACITY = warehouse_config.get(\"warehouse\", \"WAREHOUSE_BASE_CAPACITY\")\n",
    "WAREHOUSE_MAX_CAPACITY = warehouse_config.get(\"warehouse\", \"WAREHOUSE_MAX_CAPACITY\")\n",
    "WAREHOUSE_ENHANCED_VPC_ROUTING = warehouse_config.get(\"warehouse\", \"WAREHOUSE_ENHANCED_VPC_ROUTING\")\n",
    "WAREHOUSE_PUBLIC_ACCESSIBLE = warehouse_config.get(\"warehouse\", \"WAREHOUSE_PUBLIC_ACCESSIBLE\")"
   ]
  },
  {
   "cell_type": "code",
   "execution_count": null,
   "id": "1f7eb841-41bb-45f8-a120-f8dc720582a1",
   "metadata": {},
   "outputs": [],
   "source": [
    "s3 = boto3.resource(\n",
    "    \"s3\",\n",
    "    region_name=REGION_NAME,\n",
    "    aws_access_key_id=AWS_ACCESS_KEY,\n",
    "    aws_secret_access_key=AWS_SECRET_ACCESS_KEY\n",
    ")\n",
    "iam = boto3.client(\n",
    "    \"iam\",\n",
    "    region_name=REGION_NAME,\n",
    "    aws_access_key_id=AWS_ACCESS_KEY,\n",
    "    aws_secret_access_key=AWS_SECRET_ACCESS_KEY\n",
    ")\n",
    "iam_resource = boto3.resource(\n",
    "    \"iam\",\n",
    "    region_name=REGION_NAME,\n",
    "    aws_access_key_id=AWS_ACCESS_KEY,\n",
    "    aws_secret_access_key=AWS_SECRET_ACCESS_KEY\n",
    ")\n",
    "redshift = boto3.client(\n",
    "    \"redshift-serverless\",\n",
    "    region_name=REGION_NAME,\n",
    "    aws_access_key_id=AWS_ACCESS_KEY,\n",
    "    aws_secret_access_key=AWS_SECRET_ACCESS_KEY\n",
    ")\n",
    "ec2 = boto3.resource(\n",
    "    \"ec2\",\n",
    "    region_name=REGION_NAME,\n",
    "    aws_access_key_id=AWS_ACCESS_KEY,\n",
    "    aws_secret_access_key=AWS_SECRET_ACCESS_KEY\n",
    ")\n",
    "ec2_client = boto3.client(\n",
    "    'ec2',\n",
    "    region_name=REGION_NAME,\n",
    "    aws_access_key_id=AWS_ACCESS_KEY,\n",
    "    aws_secret_access_key=AWS_SECRET_ACCESS_KEY\n",
    ")"
   ]
  },
  {
   "cell_type": "markdown",
   "id": "8d6cae81-9ea5-44a9-9b04-e025f42bd2d2",
   "metadata": {},
   "source": [
    "#### Create security group"
   ]
  },
  {
   "cell_type": "code",
   "execution_count": null,
   "id": "c55a7e6d-3d02-40ec-b733-f3210bb358f4",
   "metadata": {},
   "outputs": [],
   "source": [
    "vpcs = ec2_client.describe_vpcs()\n",
    "vpc_id = vpcs.get('Vpcs', [{}])[0].get('VpcId', '')\n",
    "try:\n",
    "    response = ec2.create_security_group(\n",
    "        GroupName=SECURITY_GROUP_NAME,\n",
    "        Description=SECURITY_GROUP_DESCRIPTION,\n",
    "        VpcId=vpc_id\n",
    "    )\n",
    "    groups = ec2_client.describe_security_groups(\n",
    "        Filters=[\n",
    "            dict(Name='group-name', Values=[SECURITY_GROUP_NAME])\n",
    "        ]\n",
    "    )\n",
    "    SECURITY_GROUP_ID = groups['SecurityGroups'][0]['GroupId']\n",
    "    data = ec2_client.authorize_security_group_ingress(\n",
    "        GroupId=SECURITY_GROUP_ID,\n",
    "        IpPermissions=[\n",
    "            {'IpProtocol': 'TCP',\n",
    "             'FromPort': int(WAREHOUSE_PORT),\n",
    "             'ToPort': int(WAREHOUSE_PORT),\n",
    "             'IpRanges': [{'CidrIp': '0.0.0.0/0'}]},\n",
    "        ])\n",
    "except ClientError as e:\n",
    "    print(e)"
   ]
  },
  {
   "cell_type": "markdown",
   "id": "f8162403-9e69-4acb-aeab-388360f6309a",
   "metadata": {},
   "source": [
    "#### Create IAM Roles"
   ]
  },
  {
   "cell_type": "code",
   "execution_count": null,
   "id": "4c890a9f-ac43-48bb-b90c-7942ca021446",
   "metadata": {},
   "outputs": [],
   "source": [
    "try:\n",
    "    trust_policy = {\n",
    "        \"Version\": \"2012-10-17\",\n",
    "        \"Statement\": [\n",
    "            {\n",
    "                \"Effect\": \"Allow\",\n",
    "                \"Principal\": {\n",
    "                    \"Service\": \"redshift.amazonaws.com\"\n",
    "                },\n",
    "                \"Action\": \"sts:AssumeRole\"\n",
    "            }\n",
    "        ]\n",
    "    }\n",
    "    s3_access_policy_arn = \"arn:aws:iam::aws:policy/AmazonS3FullAccess\"\n",
    "    role = iam.create_role(\n",
    "        RoleName=ROLE_NAME, AssumeRolePolicyDocument=json.dumps(trust_policy)\n",
    "    )\n",
    "    iam_resource.Policy(s3_access_policy_arn).attach_role(RoleName=ROLE_NAME)\n",
    "except ClientError as e:\n",
    "    print(e)"
   ]
  },
  {
   "cell_type": "markdown",
   "id": "2fbd875b-a286-4fc0-95f9-fad25f4126cc",
   "metadata": {},
   "source": [
    "#### Create Namespace"
   ]
  },
  {
   "cell_type": "code",
   "execution_count": null,
   "id": "15489753-f25c-4773-93c9-baacd195c28b",
   "metadata": {},
   "outputs": [],
   "source": [
    "try:\n",
    "    role_arn = iam.get_role(RoleName=ROLE_NAME)[\"Role\"][\"Arn\"]\n",
    "    create_namespace = redshift.create_namespace(\n",
    "        adminUserPassword=WAREHOUSE_PASSWORD,\n",
    "        adminUsername=WAREHOUSE_USERNAME,\n",
    "        dbName=WAREHOUSE_DB,\n",
    "        defaultIamRoleArn=role_arn,\n",
    "        iamRoles=[role_arn],\n",
    "        logExports=['useractivitylog'],\n",
    "        manageAdminPassword=False,\n",
    "        namespaceName=WAREHOUSE_NAMESPACE,\n",
    "    )\n",
    "except Exception as e:\n",
    "    print(e)"
   ]
  },
  {
   "cell_type": "markdown",
   "id": "760f2ab8-d9f8-4e88-9f64-5d2fd1aabe5b",
   "metadata": {},
   "source": [
    "#### Create Workgroup"
   ]
  },
  {
   "cell_type": "code",
   "execution_count": null,
   "id": "a02346e2-cd39-4f49-b1fb-80a18231d1db",
   "metadata": {},
   "outputs": [],
   "source": [
    "try:\n",
    "    subnets = ec2_client.describe_subnets()\n",
    "    # Extract subnet IDs from the response\n",
    "    subnet_ids = [subnet['SubnetId'] for subnet in subnets['Subnets']]\n",
    "    \n",
    "    response = redshift.create_workgroup(\n",
    "        baseCapacity=int(WAREHOUSE_BASE_CAPACITY),\n",
    "        enhancedVpcRouting=bool(WAREHOUSE_ENHANCED_VPC_ROUTING),\n",
    "        maxCapacity=int(WAREHOUSE_MAX_CAPACITY),\n",
    "        namespaceName=WAREHOUSE_NAMESPACE,\n",
    "        port=int(WAREHOUSE_PORT),\n",
    "        publiclyAccessible=bool(WAREHOUSE_PUBLIC_ACCESSIBLE),\n",
    "        securityGroupIds=[SECURITY_GROUP_ID],\n",
    "        subnetIds=subnet_ids,\n",
    "        workgroupName=WAREHOUSE_WORKGROUP\n",
    "    )\n",
    "except Exception as e:\n",
    "    print(e)"
   ]
  },
  {
   "cell_type": "markdown",
   "id": "5ba7c0ca-91a2-458d-84d4-bcce0ca72d78",
   "metadata": {},
   "source": [
    "### Connect and create table in Redshift Serverless"
   ]
  },
  {
   "cell_type": "code",
   "execution_count": null,
   "id": "2f45a27e-1c17-46f7-b399-cd881e534c0c",
   "metadata": {},
   "outputs": [],
   "source": [
    "import psycopg2"
   ]
  },
  {
   "cell_type": "code",
   "execution_count": null,
   "id": "1c7b4725-1c8a-4e2b-af9c-b22495818887",
   "metadata": {},
   "outputs": [],
   "source": [
    "workgroup = redshift.get_workgroup(workgroupName=WAREHOUSE_WORKGROUP)[\"workgroup\"]\n",
    "WAREHOUSE_ENDPOINT = workgroup[\"endpoint\"][\"address\"]"
   ]
  },
  {
   "cell_type": "code",
   "execution_count": null,
   "id": "4f5e8e1e-3346-4a14-af52-75c0c3fec79c",
   "metadata": {},
   "outputs": [],
   "source": [
    "try:\n",
    "    conn = psycopg2.connect(\n",
    "        host=WAREHOUSE_ENDPOINT,\n",
    "        dbname=WAREHOUSE_DB,\n",
    "        user=WAREHOUSE_USERNAME,\n",
    "        password=WAREHOUSE_PASSWORD,\n",
    "        port=int(WAREHOUSE_PORT)\n",
    "    )\n",
    "except Exception as e:\n",
    "    print(e)\n",
    "\n",
    "conn.set_session(autocommit=True)"
   ]
  },
  {
   "cell_type": "code",
   "execution_count": null,
   "id": "8dfc573b-e4fe-4c34-9af0-0269e1ad777f",
   "metadata": {},
   "outputs": [],
   "source": [
    "try:\n",
    "    cur = conn.cursor()\n",
    "except psycopg2.Error as e:\n",
    "    print(e)"
   ]
  },
  {
   "cell_type": "code",
   "execution_count": null,
   "id": "f43cb29a-5f50-4044-a5be-8ea4875a2a6b",
   "metadata": {},
   "outputs": [],
   "source": [
    "try:\n",
    "    cur.execute(\"\"\"\n",
    "        create table users(\n",
    "            id integer not null distkey sortkey,\n",
    "            firstname varchar(100),\n",
    "            lastname varchar(100),\n",
    "            email varchar(100),\n",
    "            username varchar(100),\n",
    "            phone varchar(100)\n",
    "        );\n",
    "    \"\"\")\n",
    "except psycopg2.Error as e:\n",
    "    print(e)"
   ]
  },
  {
   "cell_type": "code",
   "execution_count": null,
   "id": "7d310d61-a5c5-470b-841d-cd85538e96a1",
   "metadata": {},
   "outputs": [],
   "source": [
    "BUCKET_NAME = \"chase--test\"\n",
    "OBJECT_NAME = \"user_pipeline.csv\""
   ]
  },
  {
   "cell_type": "code",
   "execution_count": null,
   "id": "3ef47e3e-8229-42c9-b61f-bd75323b0af9",
   "metadata": {},
   "outputs": [],
   "source": [
    "try:\n",
    "    cur.execute(\"\"\"\n",
    "        copy users from 's3://{BUCKET_NAME}/{OBJECT_NAME}'\n",
    "        credentials 'aws_iam_role={ROLE_ARN}'\n",
    "        delimiter ','\n",
    "        region '{REGION_NAME}'\n",
    "    \"\"\".format(\n",
    "        BUCKET_NAME=BUCKET_NAME,\n",
    "        OBJECT_NAME=OBJECT_NAME,\n",
    "        ROLE_ARN=role_arn,\n",
    "        REGION_NAME=REGION_NAME\n",
    "    ))\n",
    "except psycopg2.Error as e:\n",
    "    print(e)"
   ]
  },
  {
   "cell_type": "code",
   "execution_count": null,
   "id": "407dcdf4-0593-47df-ad82-5c1abbbf9cc2",
   "metadata": {},
   "outputs": [],
   "source": [
    "try:\n",
    "    cur.execute(\"\"\"\n",
    "        select * from users;\n",
    "    \"\"\")\n",
    "except psycopg2.Error as e:\n",
    "    print(e)    "
   ]
  },
  {
   "cell_type": "code",
   "execution_count": null,
   "id": "fd215985-b7f8-4a06-b0eb-145b8bfa3509",
   "metadata": {},
   "outputs": [],
   "source": [
    "row = cur.fetchone()\n",
    "print(row)"
   ]
  },
  {
   "cell_type": "markdown",
   "id": "bf5d11d2-7377-4d69-a4e7-94eee0506d67",
   "metadata": {},
   "source": [
    "<p><b>Go to Redshift to check the results</b></p>"
   ]
  },
  {
   "cell_type": "markdown",
   "id": "1de097cb-a252-477a-8c8b-a603e5ba1574",
   "metadata": {},
   "source": [
    "#### Remove all services"
   ]
  },
  {
   "cell_type": "code",
   "execution_count": null,
   "id": "c92bd980-dc54-47f3-8592-5dfaa5b4ce6e",
   "metadata": {},
   "outputs": [],
   "source": [
    "try:\n",
    "    redshift.delete_workgroup(\n",
    "        workgroupName=WAREHOUSE_WORKGROUP\n",
    "    )\n",
    "except ClientError as e:\n",
    "    print(e)"
   ]
  },
  {
   "cell_type": "code",
   "execution_count": null,
   "id": "5a1435e0-237f-4e99-b2a8-383b7dcb82f1",
   "metadata": {},
   "outputs": [],
   "source": [
    "try:\n",
    "    redshift.delete_namespace(\n",
    "        namespaceName=WAREHOUSE_NAMESPACE\n",
    "    )\n",
    "except ClientError as e:\n",
    "    print(e)"
   ]
  },
  {
   "cell_type": "code",
   "execution_count": null,
   "id": "9fb9fd8c-f5d9-4b49-960a-0dbd93ae7e06",
   "metadata": {},
   "outputs": [],
   "source": [
    "try:\n",
    "    iam_resource.Policy(s3_access_policy_arn).detach_role(RoleName=ROLE_NAME)\n",
    "    iam_resource.Role(ROLE_NAME).delete()\n",
    "except ClientError as e:\n",
    "    print(e)"
   ]
  },
  {
   "cell_type": "code",
   "execution_count": null,
   "id": "1831c0ca-ce51-4125-95ca-39c2682adc40",
   "metadata": {},
   "outputs": [],
   "source": [
    "try:\n",
    "    ec2_client.delete_security_group(GroupId=SECURITY_GROUP_ID)\n",
    "except ClientError as e:\n",
    "    print(e)"
   ]
  }
 ],
 "metadata": {
  "kernelspec": {
   "display_name": "Python 3 (ipykernel)",
   "language": "python",
   "name": "python3"
  },
  "language_info": {
   "codemirror_mode": {
    "name": "ipython",
    "version": 3
   },
   "file_extension": ".py",
   "mimetype": "text/x-python",
   "name": "python",
   "nbconvert_exporter": "python",
   "pygments_lexer": "ipython3",
   "version": "3.11.4"
  }
 },
 "nbformat": 4,
 "nbformat_minor": 5
}
